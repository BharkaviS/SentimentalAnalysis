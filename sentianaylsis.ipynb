{
 "cells": [
  {
   "cell_type": "code",
   "execution_count": 1,
   "metadata": {
    "collapsed": true
   },
   "outputs": [],
   "source": [
    "import tweepy\n",
    "from tkinter import *\n",
    "from time import sleep\n",
    "from datetime import datetime\n",
    "from textblob import TextBlob\n",
    "import matplotlib.pyplot as plt\n",
    "\n"
   ]
  },
  {
   "cell_type": "code",
   "execution_count": 2,
   "metadata": {
    "collapsed": true
   },
   "outputs": [],
   "source": [
    "consumer_key=\"dPHn2asjsnouBPWlc1KJwEfRT\" \n",
    "consumer_secret=\"tD8t7qofWdYoRVhvyLuc1xvzq07IhaPeIkH3khoe9ogzWMQQ8e\"\n",
    "access_key=\"1104066488724422656-iapXTdPy2vowzH3tRHHAeUxnl8Bqdt\"\n",
    "access_secret=\"euvLKIkjRWVzMc8sfUjZNTP9HEb29SwjC8en5X2MLs3f8\""
   ]
  },
  {
   "cell_type": "code",
   "execution_count": 3,
   "metadata": {
    "collapsed": true
   },
   "outputs": [],
   "source": [
    "auth = tweepy.OAuthHandler(consumer_key, consumer_secret)\n",
    "auth.set_access_token(access_key, access_secret)\n",
    "api = tweepy.API(auth)"
   ]
  },
  {
   "cell_type": "code",
   "execution_count": 4,
   "metadata": {
    "collapsed": true
   },
   "outputs": [],
   "source": [
    "#GUI\n",
    "root = Tk()\n"
   ]
  },
  {
   "cell_type": "code",
   "execution_count": 5,
   "metadata": {
    "collapsed": true
   },
   "outputs": [],
   "source": [
    "label1 = Label(root, text=\"Search\")\n",
    "E1 = Entry(root, bd =5)\n",
    "\n",
    "label2 = Label(root, text=\"Sample Size\")\n",
    "E2 = Entry(root, bd =5)\n"
   ]
  },
  {
   "cell_type": "markdown",
   "metadata": {
    "collapsed": true
   },
   "source": [
    "label1 = Label(root, text=\"Search\")\n",
    "E1 = Entry(root, bd =5)\n",
    "\n",
    "label2 = Label(root, text=\"Sample Size\")\n",
    "E2 = Entry(root, bd =5)"
   ]
  },
  {
   "cell_type": "code",
   "execution_count": 6,
   "metadata": {
    "collapsed": true
   },
   "outputs": [],
   "source": [
    "def getE1():\n",
    "    return E1.get()\n"
   ]
  },
  {
   "cell_type": "code",
   "execution_count": 7,
   "metadata": {
    "collapsed": true
   },
   "outputs": [],
   "source": [
    "def getE2():\n",
    "    return E2.get()\n"
   ]
  },
  {
   "cell_type": "code",
   "execution_count": null,
   "metadata": {},
   "outputs": [
    {
     "data": {
      "image/png": "[encoded data removed]",
      "text/plain": [
       "<matplotlib.figure.Figure at 0x2186e097518>"
      ]
     },
     "metadata": {},
     "output_type": "display_data"
    }
   ],
   "source": [
    "def getData():\n",
    "    getE1()\n",
    "    keyword = getE1()\n",
    "\n",
    "    getE2()\n",
    "    numberOfTweets = getE2()\n",
    "    numberOfTweets = int(numberOfTweets)\n",
    "\n",
    "    #Where the tweets are stored to be plotted\n",
    "    polarity_list = []\n",
    "    numbers_list = []\n",
    "    number = 1\n",
    "\n",
    "    for tweet in tweepy.Cursor(api.search, keyword, lang=\"en\").items(numberOfTweets):\n",
    "        try:\n",
    "            analysis = TextBlob(tweet.text)\n",
    "            analysis = analysis.sentiment\n",
    "            polarity = analysis.polarity\n",
    "            polarity_list.append(polarity)\n",
    "            numbers_list.append(number)\n",
    "            number = number + 1\n",
    "\n",
    "        except tweepy.TweepError as e:\n",
    "            print(e.reason)\n",
    "\n",
    "        except StopIteration:\n",
    "            break\n",
    "        #Plotting\n",
    "    axes = plt.gca()\n",
    "    axes.set_ylim([-1, 2])\n",
    "\n",
    "    plt.scatter(numbers_list,polarity_list)\n",
    "\n",
    "    averagePolarity = (sum(polarity_list))/(len(polarity_list))\n",
    "    averagePolarity = \"{0:.0f}%\".format(averagePolarity * 100)\n",
    "    time  = datetime.now().strftime(\"At: %H:%M\\nOn: %m-%d-%y\")\n",
    "\n",
    "    plt.text(0, 1.25, \"Average Sentiment:  \" + str(averagePolarity) + \"\\n\" + time, fontsize=12, bbox = dict(facecolor='none', edgecolor='black', boxstyle='square, pad = 1'))\n",
    "\n",
    "    plt.title(\"Sentiment of \" + keyword + \" on Twitter\")\n",
    "    plt.xlabel(\"Number of Tweets\")\n",
    "    plt.ylabel(\"Sentiment\")\n",
    "    plt.show()\n",
    "    plt.plot(kind='box',x=numbers_list,y=polarity_list)\n",
    "\n",
    "submit = Button(root, text =\"Submit\", command = getData)\n",
    "\n",
    "label1.pack()\n",
    "E1.pack()\n",
    "label2.pack()\n",
    "E2.pack()\n",
    "submit.pack(side =BOTTOM)\n",
    "root.mainloop()\n",
    "plt.show()\n"
   ]
  },
  {
   "cell_type": "code",
   "execution_count": null,
   "metadata": {
    "collapsed": true
   },
   "outputs": [],
   "source": [
    " "
   ]
  },
  {
   "cell_type": "code",
   "execution_count": null,
   "metadata": {
    "collapsed": true
   },
   "outputs": [],
   "source": []
  }
 ],
 "metadata": {
  "kernelspec": {
   "display_name": "Python 3",
   "language": "python",
   "name": "python3"
  },
  "language_info": {
   "codemirror_mode": {
    "name": "ipython",
    "version": 3
   },
   "file_extension": ".py",
   "mimetype": "text/x-python",
   "name": "python",
   "nbconvert_exporter": "python",
   "pygments_lexer": "ipython3",
   "version": "3.6.2"
  }
 },
 "nbformat": 4,
 "nbformat_minor": 2
}
